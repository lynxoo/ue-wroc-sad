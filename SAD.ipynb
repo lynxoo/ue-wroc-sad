{
  "nbformat": 4,
  "nbformat_minor": 0,
  "metadata": {
    "colab": {
      "name": "SAD.ipynb",
      "provenance": [],
      "collapsed_sections": [],
      "include_colab_link": true
    },
    "kernelspec": {
      "name": "python3",
      "display_name": "Python 3"
    }
  },
  "cells": [
    {
      "cell_type": "markdown",
      "metadata": {
        "id": "view-in-github",
        "colab_type": "text"
      },
      "source": [
        "<a href=\"https://colab.research.google.com/github/lynxoo/ue-wroc-sad/blob/master/SAD.ipynb\" target=\"_parent\"><img src=\"https://colab.research.google.com/assets/colab-badge.svg\" alt=\"Open In Colab\"/></a>"
      ]
    },
    {
      "cell_type": "markdown",
      "metadata": {
        "id": "MGTvba5PhXz5",
        "colab_type": "text"
      },
      "source": [
        "# Statystyczna Analiza Danych\n",
        "## Analiza Szkockich Whisky\n",
        "\n",
        "Autorzy projektu:\n",
        "* Łukasz Fąfara\n",
        "* Artur Malarz"
      ]
    },
    {
      "cell_type": "code",
      "metadata": {
        "id": "0P3VgjGxONEb",
        "colab_type": "code",
        "colab": {}
      },
      "source": [
        "import pandas as pd\n",
        "scotch = pd.read_csv(r'https://github.com/lynxoo/ue-wroc-sad/raw/master/scotch_review.csv')"
      ],
      "execution_count": 0,
      "outputs": []
    },
    {
      "cell_type": "code",
      "metadata": {
        "id": "YXrVXYcRgV0J",
        "colab_type": "code",
        "outputId": "3c5d64de-bef2-4964-bcdb-f975bf8758c2",
        "colab": {
          "base_uri": "https://localhost:8080/",
          "height": 544
        }
      },
      "source": [
        "scotch.head(5)"
      ],
      "execution_count": 246,
      "outputs": [
        {
          "output_type": "execute_result",
          "data": {
            "text/html": [
              "<div>\n",
              "<style scoped>\n",
              "    .dataframe tbody tr th:only-of-type {\n",
              "        vertical-align: middle;\n",
              "    }\n",
              "\n",
              "    .dataframe tbody tr th {\n",
              "        vertical-align: top;\n",
              "    }\n",
              "\n",
              "    .dataframe thead th {\n",
              "        text-align: right;\n",
              "    }\n",
              "</style>\n",
              "<table border=\"1\" class=\"dataframe\">\n",
              "  <thead>\n",
              "    <tr style=\"text-align: right;\">\n",
              "      <th></th>\n",
              "      <th>Unnamed: 0</th>\n",
              "      <th>name</th>\n",
              "      <th>category</th>\n",
              "      <th>review.point</th>\n",
              "      <th>price</th>\n",
              "      <th>currency</th>\n",
              "      <th>description</th>\n",
              "    </tr>\n",
              "  </thead>\n",
              "  <tbody>\n",
              "    <tr>\n",
              "      <th>0</th>\n",
              "      <td>1</td>\n",
              "      <td>Johnnie Walker Blue Label, 40%</td>\n",
              "      <td>Blended Scotch Whisky</td>\n",
              "      <td>97</td>\n",
              "      <td>225</td>\n",
              "      <td>$</td>\n",
              "      <td>Magnificently powerful and intense. Caramels, dried peats, elegant cigar smoke, seeds scraped from vanilla beans, brand new pencils, peppercorn, coriander seeds, and star anise make for a deeply satisfying nosing experience. Silky caramels, bountiful fruits of ripe peach, stewed apple, orange pith, and pervasive smoke with elements of burnt tobacco. An abiding finish of smoke, dry spices, and banoffee pie sweetness. Close to perfection. Editor's Choice</td>\n",
              "    </tr>\n",
              "    <tr>\n",
              "      <th>1</th>\n",
              "      <td>2</td>\n",
              "      <td>Black Bowmore, 1964 vintage, 42 year old, 40.5%</td>\n",
              "      <td>Single Malt Scotch</td>\n",
              "      <td>97</td>\n",
              "      <td>4500.00</td>\n",
              "      <td>$</td>\n",
              "      <td>What impresses me most is how this whisky evolves; it's incredibly complex. On the nose and palate, this is a thick, viscous, whisky with notes of sticky toffee, earthy oak, fig cake, roasted nuts, fallen fruit, pancake batter, black cherry, ripe peach, dark chocolate-covered espresso bean, polished leather, tobacco, a hint of wild game, and lingering, leafy damp kiln smoke. Flavors continue on the palate long after swallowing. This is what we all hope for (and dream of) in an older whisky!</td>\n",
              "    </tr>\n",
              "    <tr>\n",
              "      <th>2</th>\n",
              "      <td>3</td>\n",
              "      <td>Bowmore 46 year old (distilled 1964), 42.9%</td>\n",
              "      <td>Single Malt Scotch</td>\n",
              "      <td>97</td>\n",
              "      <td>13500.00</td>\n",
              "      <td>$</td>\n",
              "      <td>There have been some legendary Bowmores from the mid-60s and this is every bit their equal. All of them share a remarkable aroma of tropical fruit, which here moves into hallucinatory intensity: guava, mango, peach, pineapple, grapefruit. There’s a very light touch of peat smoke, more a memory of Islay than the reality. Concentrated; even at low strength the palate is silky, heady, and haunting, and lasts forever in the dry glass. A legend is born. (Eight bottles only for the U.S.) Editor's Choice.</td>\n",
              "    </tr>\n",
              "    <tr>\n",
              "      <th>3</th>\n",
              "      <td>4</td>\n",
              "      <td>Compass Box The General, 53.4%</td>\n",
              "      <td>Blended Malt Scotch Whisky</td>\n",
              "      <td>96</td>\n",
              "      <td>325</td>\n",
              "      <td>$</td>\n",
              "      <td>With a name inspired by a 1926 Buster Keaton movie, only 1,698 bottles produced, and the news that one of the two batches is more than 30 years old, the clues were there that this blend was never going to be cheap. It isn't, but it's superb, rich in flavor that screams dusty old oak office, fresh polish, and Sunday church, with spices, oak dried fruits, squiggly raisins, and a surprising melting fruit-and-nut dairy chocolate back story.</td>\n",
              "    </tr>\n",
              "    <tr>\n",
              "      <th>4</th>\n",
              "      <td>5</td>\n",
              "      <td>Chivas Regal Ultis, 40%</td>\n",
              "      <td>Blended Malt Scotch Whisky</td>\n",
              "      <td>96</td>\n",
              "      <td>160</td>\n",
              "      <td>$</td>\n",
              "      <td>Captivating, enticing, and wonderfully charming, this first blended malt from Chivas Regal contains selections of five Speyside malts: Strathisla, Longmorn, Tormore, Allt-a-Bhainne, and Braeval. Red apple, cherry, raspberry fudge, peach and mango fruit salad, dusting of cinnamon, and dry heather sprigs. In essence, it’s rich and satisfying, with dark vanilla, apricot, Bourneville-covered Brazil nuts, and tangerine, smoothed over by caramel and wood spices, maltiness, and gingersnap biscuits. Quite heavenly. Editor's Choice</td>\n",
              "    </tr>\n",
              "  </tbody>\n",
              "</table>\n",
              "</div>"
            ],
            "text/plain": [
              "   Unnamed: 0  ...                                                                                                                                                                                                                                                                                                                                                                                                                                                                                                                                       description\n",
              "0  1           ...  Magnificently powerful and intense. Caramels, dried peats, elegant cigar smoke, seeds scraped from vanilla beans, brand new pencils, peppercorn, coriander seeds, and star anise make for a deeply satisfying nosing experience. Silky caramels, bountiful fruits of ripe peach, stewed apple, orange pith, and pervasive smoke with elements of burnt tobacco. An abiding finish of smoke, dry spices, and banoffee pie sweetness. Close to perfection. Editor's Choice                                                                        \n",
              "1  2           ...  What impresses me most is how this whisky evolves; it's incredibly complex. On the nose and palate, this is a thick, viscous, whisky with notes of sticky toffee, earthy oak, fig cake, roasted nuts, fallen fruit, pancake batter, black cherry, ripe peach, dark chocolate-covered espresso bean, polished leather, tobacco, a hint of wild game, and lingering, leafy damp kiln smoke. Flavors continue on the palate long after swallowing. This is what we all hope for (and dream of) in an older whisky!                                 \n",
              "2  3           ...  There have been some legendary Bowmores from the mid-60s and this is every bit their equal. All of them share a remarkable aroma of tropical fruit, which here moves into hallucinatory intensity: guava, mango, peach, pineapple, grapefruit. There’s a very light touch of peat smoke, more a memory of Islay than the reality. Concentrated; even at low strength the palate is silky, heady, and haunting, and lasts forever in the dry glass. A legend is born. (Eight bottles only for the U.S.) Editor's Choice.                         \n",
              "3  4           ...  With a name inspired by a 1926 Buster Keaton movie, only 1,698 bottles produced, and the news that one of the two batches is more than 30 years old, the clues were there that this blend was never going to be cheap. It isn't, but it's superb, rich in flavor that screams dusty old oak office, fresh polish, and Sunday church, with spices, oak dried fruits, squiggly raisins, and a surprising melting fruit-and-nut dairy chocolate back story.                                                                                        \n",
              "4  5           ...  Captivating, enticing, and wonderfully charming, this first blended malt from Chivas Regal contains selections of five Speyside malts: Strathisla, Longmorn, Tormore, Allt-a-Bhainne, and Braeval. Red apple, cherry, raspberry fudge, peach and mango fruit salad, dusting of cinnamon, and dry heather sprigs. In essence, it’s rich and satisfying, with dark vanilla, apricot, Bourneville-covered Brazil nuts, and tangerine, smoothed over by caramel and wood spices, maltiness, and gingersnap biscuits. Quite heavenly. Editor's Choice\n",
              "\n",
              "[5 rows x 7 columns]"
            ]
          },
          "metadata": {
            "tags": []
          },
          "execution_count": 246
        }
      ]
    },
    {
      "cell_type": "code",
      "metadata": {
        "id": "EIgcu9RWgbYy",
        "colab_type": "code",
        "outputId": "d73bd29c-cbe6-45f2-84b0-d272e89bc2be",
        "colab": {
          "base_uri": "https://localhost:8080/",
          "height": 204
        }
      },
      "source": [
        "scotch.drop(['currency', 'Unnamed: 0', 'description'], axis=1, inplace=True)\n",
        "scotch.head(5)"
      ],
      "execution_count": 247,
      "outputs": [
        {
          "output_type": "execute_result",
          "data": {
            "text/html": [
              "<div>\n",
              "<style scoped>\n",
              "    .dataframe tbody tr th:only-of-type {\n",
              "        vertical-align: middle;\n",
              "    }\n",
              "\n",
              "    .dataframe tbody tr th {\n",
              "        vertical-align: top;\n",
              "    }\n",
              "\n",
              "    .dataframe thead th {\n",
              "        text-align: right;\n",
              "    }\n",
              "</style>\n",
              "<table border=\"1\" class=\"dataframe\">\n",
              "  <thead>\n",
              "    <tr style=\"text-align: right;\">\n",
              "      <th></th>\n",
              "      <th>name</th>\n",
              "      <th>category</th>\n",
              "      <th>review.point</th>\n",
              "      <th>price</th>\n",
              "    </tr>\n",
              "  </thead>\n",
              "  <tbody>\n",
              "    <tr>\n",
              "      <th>0</th>\n",
              "      <td>Johnnie Walker Blue Label, 40%</td>\n",
              "      <td>Blended Scotch Whisky</td>\n",
              "      <td>97</td>\n",
              "      <td>225</td>\n",
              "    </tr>\n",
              "    <tr>\n",
              "      <th>1</th>\n",
              "      <td>Black Bowmore, 1964 vintage, 42 year old, 40.5%</td>\n",
              "      <td>Single Malt Scotch</td>\n",
              "      <td>97</td>\n",
              "      <td>4500.00</td>\n",
              "    </tr>\n",
              "    <tr>\n",
              "      <th>2</th>\n",
              "      <td>Bowmore 46 year old (distilled 1964), 42.9%</td>\n",
              "      <td>Single Malt Scotch</td>\n",
              "      <td>97</td>\n",
              "      <td>13500.00</td>\n",
              "    </tr>\n",
              "    <tr>\n",
              "      <th>3</th>\n",
              "      <td>Compass Box The General, 53.4%</td>\n",
              "      <td>Blended Malt Scotch Whisky</td>\n",
              "      <td>96</td>\n",
              "      <td>325</td>\n",
              "    </tr>\n",
              "    <tr>\n",
              "      <th>4</th>\n",
              "      <td>Chivas Regal Ultis, 40%</td>\n",
              "      <td>Blended Malt Scotch Whisky</td>\n",
              "      <td>96</td>\n",
              "      <td>160</td>\n",
              "    </tr>\n",
              "  </tbody>\n",
              "</table>\n",
              "</div>"
            ],
            "text/plain": [
              "                                              name  ...     price\n",
              "0  Johnnie Walker Blue Label, 40%                   ...  225     \n",
              "1  Black Bowmore, 1964 vintage, 42 year old, 40.5%  ...  4500.00 \n",
              "2  Bowmore 46 year old (distilled 1964), 42.9%      ...  13500.00\n",
              "3  Compass Box The General, 53.4%                   ...  325     \n",
              "4  Chivas Regal Ultis, 40%                          ...  160     \n",
              "\n",
              "[5 rows x 4 columns]"
            ]
          },
          "metadata": {
            "tags": []
          },
          "execution_count": 247
        }
      ]
    },
    {
      "cell_type": "code",
      "metadata": {
        "id": "y_GFzNYRVUIQ",
        "colab_type": "code",
        "colab": {
          "base_uri": "https://localhost:8080/",
          "height": 204
        },
        "outputId": "87efdb4d-19bc-4993-edad-f03e9a8c316c"
      },
      "source": [
        "scotch.info()"
      ],
      "execution_count": 248,
      "outputs": [
        {
          "output_type": "stream",
          "text": [
            "<class 'pandas.core.frame.DataFrame'>\n",
            "RangeIndex: 2247 entries, 0 to 2246\n",
            "Data columns (total 4 columns):\n",
            " #   Column        Non-Null Count  Dtype \n",
            "---  ------        --------------  ----- \n",
            " 0   name          2247 non-null   object\n",
            " 1   category      2247 non-null   object\n",
            " 2   review.point  2247 non-null   int64 \n",
            " 3   price         2247 non-null   object\n",
            "dtypes: int64(1), object(3)\n",
            "memory usage: 70.3+ KB\n"
          ],
          "name": "stdout"
        }
      ]
    },
    {
      "cell_type": "markdown",
      "metadata": {
        "id": "UrdKm8ZeVUS_",
        "colab_type": "text"
      },
      "source": [
        "Parsowanie ceny"
      ]
    },
    {
      "cell_type": "code",
      "metadata": {
        "id": "3dzwBqpXTETP",
        "colab_type": "code",
        "colab": {
          "base_uri": "https://localhost:8080/",
          "height": 68
        },
        "outputId": "4f64babc-97d6-48be-dd93-9750adba685d"
      },
      "source": [
        "def parse_price(text):\n",
        "  try:\n",
        "    return float(text)\n",
        "  except:\n",
        "    pass\n",
        "  return None\n",
        "scotch['price'] = [parse_price(price) for price in scotch['price']]\n",
        "scotch['price'].isnull().value_counts()"
      ],
      "execution_count": 249,
      "outputs": [
        {
          "output_type": "execute_result",
          "data": {
            "text/plain": [
              "False    2228\n",
              "True     19  \n",
              "Name: price, dtype: int64"
            ]
          },
          "metadata": {
            "tags": []
          },
          "execution_count": 249
        }
      ]
    },
    {
      "cell_type": "code",
      "metadata": {
        "id": "LYinABazVdbm",
        "colab_type": "code",
        "colab": {
          "base_uri": "https://localhost:8080/",
          "height": 204
        },
        "outputId": "7ddf9d8e-7946-4694-bf01-fbe1e339640f"
      },
      "source": [
        "scotch.dropna(inplace=True)\n",
        "scotch.info()"
      ],
      "execution_count": 250,
      "outputs": [
        {
          "output_type": "stream",
          "text": [
            "<class 'pandas.core.frame.DataFrame'>\n",
            "Int64Index: 2228 entries, 0 to 2246\n",
            "Data columns (total 4 columns):\n",
            " #   Column        Non-Null Count  Dtype  \n",
            "---  ------        --------------  -----  \n",
            " 0   name          2228 non-null   object \n",
            " 1   category      2228 non-null   object \n",
            " 2   review.point  2228 non-null   int64  \n",
            " 3   price         2228 non-null   float64\n",
            "dtypes: float64(1), int64(1), object(2)\n",
            "memory usage: 87.0+ KB\n"
          ],
          "name": "stdout"
        }
      ]
    },
    {
      "cell_type": "markdown",
      "metadata": {
        "id": "7omHHn0Wwdpt",
        "colab_type": "text"
      },
      "source": [
        "Parsowanie zawartości alkoholu"
      ]
    },
    {
      "cell_type": "code",
      "metadata": {
        "id": "9eNW7Sq6t7qM",
        "colab_type": "code",
        "outputId": "4efef77d-e8f4-48b8-8665-a0ba886e8d6e",
        "colab": {
          "base_uri": "https://localhost:8080/",
          "height": 119
        }
      },
      "source": [
        "scotch_abv_test = scotch.copy()\n",
        "\n",
        "import re\n",
        "def parse_alcohol(text):\n",
        "  matches = re.search(r\"([\\d.]+)%\", str(text))\n",
        "  return float(matches.group(1)) if matches else None\n",
        "\n",
        "scotch_abv_test['abv'] = [parse_alcohol(name) for name in scotch_abv_test['name']]\n",
        "scotch_abv_test.isnull().sum()"
      ],
      "execution_count": 251,
      "outputs": [
        {
          "output_type": "execute_result",
          "data": {
            "text/plain": [
              "name            0 \n",
              "category        0 \n",
              "review.point    0 \n",
              "price           0 \n",
              "abv             16\n",
              "dtype: int64"
            ]
          },
          "metadata": {
            "tags": []
          },
          "execution_count": 251
        }
      ]
    },
    {
      "cell_type": "code",
      "metadata": {
        "id": "pTdFNt44xePR",
        "colab_type": "code",
        "outputId": "d20a8e57-deda-4767-d61b-a552dd8d5075",
        "colab": {
          "base_uri": "https://localhost:8080/",
          "height": 599
        }
      },
      "source": [
        "scotch_abv_test[scotch_abv_test['abv'].isnull()]"
      ],
      "execution_count": 252,
      "outputs": [
        {
          "output_type": "stream",
          "text": [
            "/usr/local/lib/python3.6/dist-packages/ipykernel_launcher.py:1: FutureWarning: Passing a negative integer is deprecated in version 1.0 and will not be supported in future version. Instead, use None to not limit the column width.\n",
            "  \"\"\"Entry point for launching an IPython kernel.\n"
          ],
          "name": "stderr"
        },
        {
          "output_type": "execute_result",
          "data": {
            "text/html": [
              "<div>\n",
              "<style scoped>\n",
              "    .dataframe tbody tr th:only-of-type {\n",
              "        vertical-align: middle;\n",
              "    }\n",
              "\n",
              "    .dataframe tbody tr th {\n",
              "        vertical-align: top;\n",
              "    }\n",
              "\n",
              "    .dataframe thead th {\n",
              "        text-align: right;\n",
              "    }\n",
              "</style>\n",
              "<table border=\"1\" class=\"dataframe\">\n",
              "  <thead>\n",
              "    <tr style=\"text-align: right;\">\n",
              "      <th></th>\n",
              "      <th>name</th>\n",
              "      <th>category</th>\n",
              "      <th>review.point</th>\n",
              "      <th>price</th>\n",
              "      <th>abv</th>\n",
              "    </tr>\n",
              "  </thead>\n",
              "  <tbody>\n",
              "    <tr>\n",
              "      <th>91</th>\n",
              "      <td>Ardbeg An Oa</td>\n",
              "      <td>Single Malt Scotch</td>\n",
              "      <td>93</td>\n",
              "      <td>60.0</td>\n",
              "      <td>NaN</td>\n",
              "    </tr>\n",
              "    <tr>\n",
              "      <th>93</th>\n",
              "      <td>Balvenie 1973 Vintage, 30 year old, Cask #9219</td>\n",
              "      <td>Single Malt Scotch</td>\n",
              "      <td>93</td>\n",
              "      <td>400.0</td>\n",
              "      <td>NaN</td>\n",
              "    </tr>\n",
              "    <tr>\n",
              "      <th>189</th>\n",
              "      <td>Bowmore Oloroso Sherry Cask, 1964 Vintage</td>\n",
              "      <td>Single Malt Scotch</td>\n",
              "      <td>92</td>\n",
              "      <td>1500.0</td>\n",
              "      <td>NaN</td>\n",
              "    </tr>\n",
              "    <tr>\n",
              "      <th>309</th>\n",
              "      <td>Scott</td>\n",
              "      <td>Single Malt Scotch</td>\n",
              "      <td>91</td>\n",
              "      <td>130.0</td>\n",
              "      <td>NaN</td>\n",
              "    </tr>\n",
              "    <tr>\n",
              "      <th>388</th>\n",
              "      <td>Compass Box Hedonism Maximus</td>\n",
              "      <td>Grain Scotch Whisky</td>\n",
              "      <td>90</td>\n",
              "      <td>300.0</td>\n",
              "      <td>NaN</td>\n",
              "    </tr>\n",
              "    <tr>\n",
              "      <th>612</th>\n",
              "      <td>Cadenhead</td>\n",
              "      <td>Single Malt Scotch</td>\n",
              "      <td>89</td>\n",
              "      <td>125.0</td>\n",
              "      <td>NaN</td>\n",
              "    </tr>\n",
              "    <tr>\n",
              "      <th>640</th>\n",
              "      <td>Glenfarclas £511. 19s. 0d.</td>\n",
              "      <td>Single Malt Scotch</td>\n",
              "      <td>89</td>\n",
              "      <td>130.0</td>\n",
              "      <td>NaN</td>\n",
              "    </tr>\n",
              "    <tr>\n",
              "      <th>668</th>\n",
              "      <td>Murray McDavid</td>\n",
              "      <td>Single Malt Scotch</td>\n",
              "      <td>89</td>\n",
              "      <td>150.0</td>\n",
              "      <td>NaN</td>\n",
              "    </tr>\n",
              "    <tr>\n",
              "      <th>909</th>\n",
              "      <td>Wemyss Malts ‘Honey Spice’ (distilled at Bunnahabhain) 1991 (bottled 2011)</td>\n",
              "      <td>Single Malt Scotch</td>\n",
              "      <td>88</td>\n",
              "      <td>96.0</td>\n",
              "      <td>NaN</td>\n",
              "    </tr>\n",
              "    <tr>\n",
              "      <th>984</th>\n",
              "      <td>Cask &amp; Thistle (distilled at Aberfeldy), 29 year old, 1974 Vintage</td>\n",
              "      <td>Single Malt Scotch</td>\n",
              "      <td>87</td>\n",
              "      <td>110.0</td>\n",
              "      <td>NaN</td>\n",
              "    </tr>\n",
              "    <tr>\n",
              "      <th>987</th>\n",
              "      <td>Ardmore Traditional Cask 1998</td>\n",
              "      <td>Single Malt Scotch</td>\n",
              "      <td>87</td>\n",
              "      <td>50.0</td>\n",
              "      <td>NaN</td>\n",
              "    </tr>\n",
              "    <tr>\n",
              "      <th>1002</th>\n",
              "      <td>Wild Scotsman (distilled at Ben Nevis), 13 year old, 1992 vintage, cask #693</td>\n",
              "      <td>Single Malt Scotch</td>\n",
              "      <td>87</td>\n",
              "      <td>70.0</td>\n",
              "      <td>NaN</td>\n",
              "    </tr>\n",
              "    <tr>\n",
              "      <th>1504</th>\n",
              "      <td>Duncan Taylor NC2 (distilled at Imperial) 1997 13 year old</td>\n",
              "      <td>Single Malt Scotch</td>\n",
              "      <td>85</td>\n",
              "      <td>60.0</td>\n",
              "      <td>NaN</td>\n",
              "    </tr>\n",
              "    <tr>\n",
              "      <th>1647</th>\n",
              "      <td>Bruichladdich Full Strength, 1989 vintage, 13 years old, 57.1 ABV %</td>\n",
              "      <td>Single Malt Scotch</td>\n",
              "      <td>84</td>\n",
              "      <td>90.0</td>\n",
              "      <td>NaN</td>\n",
              "    </tr>\n",
              "    <tr>\n",
              "      <th>1956</th>\n",
              "      <td>Gordon &amp; MacPhail (distilled at Glenlossie), 27 year old, 1978 vintage, cask #1815</td>\n",
              "      <td>Single Malt Scotch</td>\n",
              "      <td>82</td>\n",
              "      <td>90.0</td>\n",
              "      <td>NaN</td>\n",
              "    </tr>\n",
              "    <tr>\n",
              "      <th>2034</th>\n",
              "      <td>Berry Brothers &amp; Rudd (distilled at Cragganmore) 1997 14 year old</td>\n",
              "      <td>Single Malt Scotch</td>\n",
              "      <td>81</td>\n",
              "      <td>93.0</td>\n",
              "      <td>NaN</td>\n",
              "    </tr>\n",
              "  </tbody>\n",
              "</table>\n",
              "</div>"
            ],
            "text/plain": [
              "                                                                                    name  ... abv\n",
              "91    Ardbeg An Oa                                                                        ... NaN\n",
              "93    Balvenie 1973 Vintage, 30 year old, Cask #9219                                      ... NaN\n",
              "189   Bowmore Oloroso Sherry Cask, 1964 Vintage                                           ... NaN\n",
              "309   Scott                                                                               ... NaN\n",
              "388   Compass Box Hedonism Maximus                                                        ... NaN\n",
              "612   Cadenhead                                                                           ... NaN\n",
              "640   Glenfarclas £511. 19s. 0d.                                                          ... NaN\n",
              "668   Murray McDavid                                                                      ... NaN\n",
              "909   Wemyss Malts ‘Honey Spice’ (distilled at Bunnahabhain) 1991 (bottled 2011)          ... NaN\n",
              "984   Cask & Thistle (distilled at Aberfeldy), 29 year old, 1974 Vintage                  ... NaN\n",
              "987   Ardmore Traditional Cask 1998                                                       ... NaN\n",
              "1002  Wild Scotsman (distilled at Ben Nevis), 13 year old, 1992 vintage, cask #693        ... NaN\n",
              "1504  Duncan Taylor NC2 (distilled at Imperial) 1997 13 year old                          ... NaN\n",
              "1647  Bruichladdich Full Strength, 1989 vintage, 13 years old, 57.1 ABV %                 ... NaN\n",
              "1956  Gordon & MacPhail (distilled at Glenlossie), 27 year old, 1978 vintage, cask #1815  ... NaN\n",
              "2034  Berry Brothers & Rudd (distilled at Cragganmore) 1997 14 year old                   ... NaN\n",
              "\n",
              "[16 rows x 5 columns]"
            ]
          },
          "metadata": {
            "tags": []
          },
          "execution_count": 252
        }
      ]
    },
    {
      "cell_type": "markdown",
      "metadata": {
        "id": "FZrGgmhyyQCL",
        "colab_type": "text"
      },
      "source": [
        "Parsowanie wieku whisky"
      ]
    },
    {
      "cell_type": "code",
      "metadata": {
        "id": "SL75MIvPyXHs",
        "colab_type": "code",
        "outputId": "91933fc8-4f88-44a8-b383-f7986b7fb010",
        "colab": {
          "base_uri": "https://localhost:8080/",
          "height": 136
        }
      },
      "source": [
        "scotch_age_test = scotch_abv_test.copy()\n",
        "\n",
        "def parse_age(text):\n",
        "  matches = re.search(r\"(\\d+) years? old\", str(text), re.IGNORECASE)\n",
        "  return float(matches.group(1)) if matches else None\n",
        "\n",
        "scotch_age_test['age'] = [parse_age(name) for name in scotch_age_test['name']]\n",
        "scotch_age_test.isnull().sum()"
      ],
      "execution_count": 253,
      "outputs": [
        {
          "output_type": "execute_result",
          "data": {
            "text/plain": [
              "name            0   \n",
              "category        0   \n",
              "review.point    0   \n",
              "price           0   \n",
              "abv             16  \n",
              "age             1028\n",
              "dtype: int64"
            ]
          },
          "metadata": {
            "tags": []
          },
          "execution_count": 253
        }
      ]
    },
    {
      "cell_type": "code",
      "metadata": {
        "id": "4r70KFBmzxYc",
        "colab_type": "code",
        "outputId": "aef1d5a1-86ae-4b98-b08c-ee17859fe5b8",
        "colab": {
          "base_uri": "https://localhost:8080/",
          "height": 419
        }
      },
      "source": [
        "scotch_age_test[scotch_age_test['age'].isnull()]"
      ],
      "execution_count": 254,
      "outputs": [
        {
          "output_type": "execute_result",
          "data": {
            "text/html": [
              "<div>\n",
              "<style scoped>\n",
              "    .dataframe tbody tr th:only-of-type {\n",
              "        vertical-align: middle;\n",
              "    }\n",
              "\n",
              "    .dataframe tbody tr th {\n",
              "        vertical-align: top;\n",
              "    }\n",
              "\n",
              "    .dataframe thead th {\n",
              "        text-align: right;\n",
              "    }\n",
              "</style>\n",
              "<table border=\"1\" class=\"dataframe\">\n",
              "  <thead>\n",
              "    <tr style=\"text-align: right;\">\n",
              "      <th></th>\n",
              "      <th>name</th>\n",
              "      <th>category</th>\n",
              "      <th>review.point</th>\n",
              "      <th>price</th>\n",
              "      <th>abv</th>\n",
              "      <th>age</th>\n",
              "    </tr>\n",
              "  </thead>\n",
              "  <tbody>\n",
              "    <tr>\n",
              "      <th>0</th>\n",
              "      <td>Johnnie Walker Blue Label, 40%</td>\n",
              "      <td>Blended Scotch Whisky</td>\n",
              "      <td>97</td>\n",
              "      <td>225.0</td>\n",
              "      <td>40.0</td>\n",
              "      <td>NaN</td>\n",
              "    </tr>\n",
              "    <tr>\n",
              "      <th>3</th>\n",
              "      <td>Compass Box The General, 53.4%</td>\n",
              "      <td>Blended Malt Scotch Whisky</td>\n",
              "      <td>96</td>\n",
              "      <td>325.0</td>\n",
              "      <td>53.4</td>\n",
              "      <td>NaN</td>\n",
              "    </tr>\n",
              "    <tr>\n",
              "      <th>4</th>\n",
              "      <td>Chivas Regal Ultis, 40%</td>\n",
              "      <td>Blended Malt Scotch Whisky</td>\n",
              "      <td>96</td>\n",
              "      <td>160.0</td>\n",
              "      <td>40.0</td>\n",
              "      <td>NaN</td>\n",
              "    </tr>\n",
              "    <tr>\n",
              "      <th>5</th>\n",
              "      <td>Ardbeg Corryvreckan, 57.1%</td>\n",
              "      <td>Single Malt Scotch</td>\n",
              "      <td>96</td>\n",
              "      <td>85.0</td>\n",
              "      <td>57.1</td>\n",
              "      <td>NaN</td>\n",
              "    </tr>\n",
              "    <tr>\n",
              "      <th>6</th>\n",
              "      <td>Gold Bowmore, 1964 vintage, 42.4%</td>\n",
              "      <td>Single Malt Scotch</td>\n",
              "      <td>96</td>\n",
              "      <td>6250.0</td>\n",
              "      <td>42.4</td>\n",
              "      <td>NaN</td>\n",
              "    </tr>\n",
              "    <tr>\n",
              "      <th>...</th>\n",
              "      <td>...</td>\n",
              "      <td>...</td>\n",
              "      <td>...</td>\n",
              "      <td>...</td>\n",
              "      <td>...</td>\n",
              "      <td>...</td>\n",
              "    </tr>\n",
              "    <tr>\n",
              "      <th>2231</th>\n",
              "      <td>MacNaMara Blended, 40%</td>\n",
              "      <td>Blended Scotch Whisky</td>\n",
              "      <td>76</td>\n",
              "      <td>35.0</td>\n",
              "      <td>40.0</td>\n",
              "      <td>NaN</td>\n",
              "    </tr>\n",
              "    <tr>\n",
              "      <th>2232</th>\n",
              "      <td>Robert Burns Single Malt, 40%</td>\n",
              "      <td>Single Malt Scotch</td>\n",
              "      <td>75</td>\n",
              "      <td>40.0</td>\n",
              "      <td>40.0</td>\n",
              "      <td>NaN</td>\n",
              "    </tr>\n",
              "    <tr>\n",
              "      <th>2235</th>\n",
              "      <td>Benromach Organic, 43%</td>\n",
              "      <td>Single Malt Scotch</td>\n",
              "      <td>74</td>\n",
              "      <td>75.0</td>\n",
              "      <td>43.0</td>\n",
              "      <td>NaN</td>\n",
              "    </tr>\n",
              "    <tr>\n",
              "      <th>2239</th>\n",
              "      <td>Benromach Origins, Batch #1, 1999 vintage, 50%</td>\n",
              "      <td>Single Malt Scotch</td>\n",
              "      <td>72</td>\n",
              "      <td>85.0</td>\n",
              "      <td>50.0</td>\n",
              "      <td>NaN</td>\n",
              "    </tr>\n",
              "    <tr>\n",
              "      <th>2241</th>\n",
              "      <td>Tomintoul, 'With a peaty tang', 40%</td>\n",
              "      <td>Single Malt Scotch</td>\n",
              "      <td>72</td>\n",
              "      <td>45.0</td>\n",
              "      <td>40.0</td>\n",
              "      <td>NaN</td>\n",
              "    </tr>\n",
              "  </tbody>\n",
              "</table>\n",
              "<p>1028 rows × 6 columns</p>\n",
              "</div>"
            ],
            "text/plain": [
              "                                                name  ... age\n",
              "0     Johnnie Walker Blue Label, 40%                  ... NaN\n",
              "3     Compass Box The General, 53.4%                  ... NaN\n",
              "4     Chivas Regal Ultis, 40%                         ... NaN\n",
              "5     Ardbeg Corryvreckan, 57.1%                      ... NaN\n",
              "6     Gold Bowmore, 1964 vintage, 42.4%               ... NaN\n",
              "...                                  ...              ...  ..\n",
              "2231  MacNaMara Blended, 40%                          ... NaN\n",
              "2232  Robert Burns Single Malt, 40%                   ... NaN\n",
              "2235  Benromach Organic, 43%                          ... NaN\n",
              "2239  Benromach Origins, Batch #1, 1999 vintage, 50%  ... NaN\n",
              "2241  Tomintoul, 'With a peaty tang', 40%             ... NaN\n",
              "\n",
              "[1028 rows x 6 columns]"
            ]
          },
          "metadata": {
            "tags": []
          },
          "execution_count": 254
        }
      ]
    },
    {
      "cell_type": "code",
      "metadata": {
        "id": "0GSUa4L0XasX",
        "colab_type": "code",
        "colab": {}
      },
      "source": [
        "scotch_abv_test.dropna(inplace=True)"
      ],
      "execution_count": 0,
      "outputs": []
    },
    {
      "cell_type": "markdown",
      "metadata": {
        "id": "W-2uSXEl1_VI",
        "colab_type": "text"
      },
      "source": [
        "Weryfikacja danych\n"
      ]
    },
    {
      "cell_type": "code",
      "metadata": {
        "id": "pWmY7ySj1YVq",
        "colab_type": "code",
        "outputId": "45577642-ed13-43f5-809e-5221cc5cd996",
        "colab": {
          "base_uri": "https://localhost:8080/",
          "height": 170
        }
      },
      "source": [
        "scotch_abv_test['abv'].describe()"
      ],
      "execution_count": 255,
      "outputs": [
        {
          "output_type": "execute_result",
          "data": {
            "text/plain": [
              "count    2212.000000\n",
              "mean     47.988603  \n",
              "std      6.261953   \n",
              "min      40.000000  \n",
              "25%      43.000000  \n",
              "50%      46.000000  \n",
              "75%      52.200000  \n",
              "max      100.000000 \n",
              "Name: abv, dtype: float64"
            ]
          },
          "metadata": {
            "tags": []
          },
          "execution_count": 255
        }
      ]
    },
    {
      "cell_type": "code",
      "metadata": {
        "id": "zpaHFUdOH6Y0",
        "colab_type": "code",
        "outputId": "88692b59-f1b0-4456-bf00-cb44b848b0f3",
        "colab": {
          "base_uri": "https://localhost:8080/",
          "height": 296
        }
      },
      "source": [
        "scotch_abv_test.reset_index().plot.scatter(x='index', y='abv')"
      ],
      "execution_count": 256,
      "outputs": [
        {
          "output_type": "execute_result",
          "data": {
            "text/plain": [
              "<matplotlib.axes._subplots.AxesSubplot at 0x7fc50ba7e240>"
            ]
          },
          "metadata": {
            "tags": []
          },
          "execution_count": 256
        },
        {
          "output_type": "display_data",
          "data": {
            "image/png": "[encoded data removed]",
            "text/plain": [
              "<Figure size 432x288 with 1 Axes>"
            ]
          },
          "metadata": {
            "tags": [],
            "needs_background": "light"
          }
        }
      ]
    },
    {
      "cell_type": "code",
      "metadata": {
        "id": "FP9tFSBHAVTh",
        "colab_type": "code",
        "outputId": "66a25fca-ff48-4e1c-9db0-00fa65ddd37a",
        "colab": {
          "base_uri": "https://localhost:8080/",
          "height": 296
        }
      },
      "source": [
        "abv_99_quantile_avg = scotch_abv_test.quantile(0.99).abv\n",
        "scotch_abv_test[scotch_abv_test['abv'] > abv_99_quantile_avg].reset_index().plot.scatter(x='index', y='abv')"
      ],
      "execution_count": 257,
      "outputs": [
        {
          "output_type": "execute_result",
          "data": {
            "text/plain": [
              "<matplotlib.axes._subplots.AxesSubplot at 0x7fc50b34df60>"
            ]
          },
          "metadata": {
            "tags": []
          },
          "execution_count": 257
        },
        {
          "output_type": "display_data",
          "data": {
            "image/png": "[encoded data removed]",
            "text/plain": [
              "<Figure size 432x288 with 1 Axes>"
            ]
          },
          "metadata": {
            "tags": [],
            "needs_background": "light"
          }
        }
      ]
    },
    {
      "cell_type": "markdown",
      "metadata": {
        "id": "M_mrgHi7E_NC",
        "colab_type": "text"
      },
      "source": [
        "Usuwamy odstające dane"
      ]
    },
    {
      "cell_type": "code",
      "metadata": {
        "id": "7NuK5K3ZN5Pl",
        "colab_type": "code",
        "colab": {
          "base_uri": "https://localhost:8080/",
          "height": 85
        },
        "outputId": "5fbdadb6-872c-4965-8ca7-96f4738fd53b"
      },
      "source": [
        "q1 = scotch_abv_test.quantile(0.25)\n",
        "q3 = scotch_abv_test.quantile(0.75)\n",
        " \n",
        "iqr = q3 - q1\n",
        "iqr"
      ],
      "execution_count": 258,
      "outputs": [
        {
          "output_type": "execute_result",
          "data": {
            "text/plain": [
              "review.point    5.25  \n",
              "price           130.00\n",
              "abv             9.20  \n",
              "dtype: float64"
            ]
          },
          "metadata": {
            "tags": []
          },
          "execution_count": 258
        }
      ]
    },
    {
      "cell_type": "code",
      "metadata": {
        "id": "HyBwnlErONdY",
        "colab_type": "code",
        "colab": {
          "base_uri": "https://localhost:8080/",
          "height": 68
        },
        "outputId": "9ea953e3-199c-4e71-afe0-cf890201a276"
      },
      "source": [
        "outliers = (scotch_abv_test < (q1 - 3.0 * iqr)) | (scotch_abv_test > (q3 + 3.0 * iqr))\n",
        "outliers['abv'].value_counts()"
      ],
      "execution_count": 259,
      "outputs": [
        {
          "output_type": "execute_result",
          "data": {
            "text/plain": [
              "False    2224\n",
              "True     4   \n",
              "Name: abv, dtype: int64"
            ]
          },
          "metadata": {
            "tags": []
          },
          "execution_count": 259
        }
      ]
    },
    {
      "cell_type": "code",
      "metadata": {
        "id": "zXeA7bsnPCvx",
        "colab_type": "code",
        "colab": {
          "base_uri": "https://localhost:8080/",
          "height": 297
        },
        "outputId": "26a2cb8b-ba43-40b0-c423-c771697532a6"
      },
      "source": [
        "no_outliers = ~(outliers).any(axis=1)\n",
        "scotch_abv_test._update_inplace(scotch_abv_test[no_outliers])\n",
        "scotch_abv_test.describe()"
      ],
      "execution_count": 260,
      "outputs": [
        {
          "output_type": "execute_result",
          "data": {
            "text/html": [
              "<div>\n",
              "<style scoped>\n",
              "    .dataframe tbody tr th:only-of-type {\n",
              "        vertical-align: middle;\n",
              "    }\n",
              "\n",
              "    .dataframe tbody tr th {\n",
              "        vertical-align: top;\n",
              "    }\n",
              "\n",
              "    .dataframe thead th {\n",
              "        text-align: right;\n",
              "    }\n",
              "</style>\n",
              "<table border=\"1\" class=\"dataframe\">\n",
              "  <thead>\n",
              "    <tr style=\"text-align: right;\">\n",
              "      <th></th>\n",
              "      <th>review.point</th>\n",
              "      <th>price</th>\n",
              "      <th>abv</th>\n",
              "    </tr>\n",
              "  </thead>\n",
              "  <tbody>\n",
              "    <tr>\n",
              "      <th>count</th>\n",
              "      <td>2012.000000</td>\n",
              "      <td>2012.000000</td>\n",
              "      <td>1997.000000</td>\n",
              "    </tr>\n",
              "    <tr>\n",
              "      <th>mean</th>\n",
              "      <td>86.369284</td>\n",
              "      <td>134.348410</td>\n",
              "      <td>47.894537</td>\n",
              "    </tr>\n",
              "    <tr>\n",
              "      <th>std</th>\n",
              "      <td>3.877450</td>\n",
              "      <td>106.842841</td>\n",
              "      <td>5.934050</td>\n",
              "    </tr>\n",
              "    <tr>\n",
              "      <th>min</th>\n",
              "      <td>70.000000</td>\n",
              "      <td>12.000000</td>\n",
              "      <td>40.000000</td>\n",
              "    </tr>\n",
              "    <tr>\n",
              "      <th>25%</th>\n",
              "      <td>84.000000</td>\n",
              "      <td>65.000000</td>\n",
              "      <td>43.000000</td>\n",
              "    </tr>\n",
              "    <tr>\n",
              "      <th>50%</th>\n",
              "      <td>87.000000</td>\n",
              "      <td>100.000000</td>\n",
              "      <td>46.000000</td>\n",
              "    </tr>\n",
              "    <tr>\n",
              "      <th>75%</th>\n",
              "      <td>89.000000</td>\n",
              "      <td>158.250000</td>\n",
              "      <td>52.300000</td>\n",
              "    </tr>\n",
              "    <tr>\n",
              "      <th>max</th>\n",
              "      <td>97.000000</td>\n",
              "      <td>589.000000</td>\n",
              "      <td>67.400000</td>\n",
              "    </tr>\n",
              "  </tbody>\n",
              "</table>\n",
              "</div>"
            ],
            "text/plain": [
              "       review.point        price          abv\n",
              "count  2012.000000   2012.000000  1997.000000\n",
              "mean   86.369284     134.348410   47.894537  \n",
              "std    3.877450      106.842841   5.934050   \n",
              "min    70.000000     12.000000    40.000000  \n",
              "25%    84.000000     65.000000    43.000000  \n",
              "50%    87.000000     100.000000   46.000000  \n",
              "75%    89.000000     158.250000   52.300000  \n",
              "max    97.000000     589.000000   67.400000  "
            ]
          },
          "metadata": {
            "tags": []
          },
          "execution_count": 260
        }
      ]
    },
    {
      "cell_type": "code",
      "metadata": {
        "id": "vtq9_5Z5Sami",
        "colab_type": "code",
        "colab": {}
      },
      "source": [
        "scotch_data = scotch_abv_test.copy()"
      ],
      "execution_count": 0,
      "outputs": []
    },
    {
      "cell_type": "markdown",
      "metadata": {
        "id": "oi4AC5aeRoi6",
        "colab_type": "text"
      },
      "source": [
        "## Rozkład wartości"
      ]
    },
    {
      "cell_type": "code",
      "metadata": {
        "id": "a2yT5FhrRoQw",
        "colab_type": "code",
        "colab": {
          "base_uri": "https://localhost:8080/",
          "height": 282
        },
        "outputId": "2a6f5a37-2c57-48cc-8dce-001db6920204"
      },
      "source": [
        "scotch_data['abv'].plot.hist(color='green')"
      ],
      "execution_count": 265,
      "outputs": [
        {
          "output_type": "execute_result",
          "data": {
            "text/plain": [
              "<matplotlib.axes._subplots.AxesSubplot at 0x7fc50a83e4e0>"
            ]
          },
          "metadata": {
            "tags": []
          },
          "execution_count": 265
        },
        {
          "output_type": "display_data",
          "data": {
            "image/png": "[encoded data removed]",
            "text/plain": [
              "<Figure size 432x288 with 1 Axes>"
            ]
          },
          "metadata": {
            "tags": [],
            "needs_background": "light"
          }
        }
      ]
    },
    {
      "cell_type": "code",
      "metadata": {
        "id": "nKrFjBCqSttf",
        "colab_type": "code",
        "colab": {
          "base_uri": "https://localhost:8080/",
          "height": 282
        },
        "outputId": "a6cbe0a4-5ff6-4c8e-a2e1-87d1029e3bf7"
      },
      "source": [
        "scotch_data['review.point'].plot.hist(color='orange')"
      ],
      "execution_count": 266,
      "outputs": [
        {
          "output_type": "execute_result",
          "data": {
            "text/plain": [
              "<matplotlib.axes._subplots.AxesSubplot at 0x7fc50a6c35f8>"
            ]
          },
          "metadata": {
            "tags": []
          },
          "execution_count": 266
        },
        {
          "output_type": "display_data",
          "data": {
            "image/png": "[encoded data removed]",
            "text/plain": [
              "<Figure size 432x288 with 1 Axes>"
            ]
          },
          "metadata": {
            "tags": [],
            "needs_background": "light"
          }
        }
      ]
    },
    {
      "cell_type": "code",
      "metadata": {
        "id": "E5FZx3d2St33",
        "colab_type": "code",
        "colab": {
          "base_uri": "https://localhost:8080/",
          "height": 282
        },
        "outputId": "efbd1e3b-462f-4149-bd8d-ba7e6621e99c"
      },
      "source": [
        "scotch_data['price'].plot.hist(color='purple')"
      ],
      "execution_count": 267,
      "outputs": [
        {
          "output_type": "execute_result",
          "data": {
            "text/plain": [
              "<matplotlib.axes._subplots.AxesSubplot at 0x7fc50a9280f0>"
            ]
          },
          "metadata": {
            "tags": []
          },
          "execution_count": 267
        },
        {
          "output_type": "display_data",
          "data": {
            "image/png": "[encoded data removed]",
            "text/plain": [
              "<Figure size 432x288 with 1 Axes>"
            ]
          },
          "metadata": {
            "tags": [],
            "needs_background": "light"
          }
        }
      ]
    }
  ]
}