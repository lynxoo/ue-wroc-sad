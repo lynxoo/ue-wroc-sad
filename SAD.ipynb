{
  "nbformat": 4,
  "nbformat_minor": 0,
  "metadata": {
    "colab": {
      "name": "SAD.ipynb",
      "provenance": [],
      "collapsed_sections": [],
      "include_colab_link": true
    },
    "kernelspec": {
      "name": "python3",
      "display_name": "Python 3"
    }
  },
  "cells": [
    {
      "cell_type": "markdown",
      "metadata": {
        "id": "view-in-github",
        "colab_type": "text"
      },
      "source": [
        "<a href=\"https://colab.research.google.com/github/lynxoo/ue-wroc-sad/blob/master/SAD.ipynb\" target=\"_parent\"><img src=\"https://colab.research.google.com/assets/colab-badge.svg\" alt=\"Open In Colab\"/></a>"
      ]
    },
    {
      "cell_type": "markdown",
      "metadata": {
        "id": "MGTvba5PhXz5",
        "colab_type": "text"
      },
      "source": [
        "# Statystyczna Analiza Danych\n",
        "## Analiza Szkockich Whisky\n",
        "\n",
        "Autorzy projektu:\n",
        "* Łukasz Fąfara\n",
        "* Artur Malarz"
      ]
    },
    {
      "cell_type": "code",
      "metadata": {
        "id": "0P3VgjGxONEb",
        "colab_type": "code",
        "colab": {}
      },
      "source": [
        "import pandas as pd\n",
        "scotch = pd.read_csv(r'https://github.com/lynxoo/ue-wroc-sad/raw/master/scotch_review.csv')"
      ],
      "execution_count": 0,
      "outputs": []
    },
    {
      "cell_type": "code",
      "metadata": {
        "id": "YXrVXYcRgV0J",
        "colab_type": "code",
        "outputId": "80ccdb98-910a-482c-c10e-74d68a20336d",
        "colab": {
          "base_uri": "https://localhost:8080/",
          "height": 353
        }
      },
      "source": [
        "scotch.head(5)"
      ],
      "execution_count": 187,
      "outputs": [
        {
          "output_type": "execute_result",
          "data": {
            "text/html": [
              "<div>\n",
              "<style scoped>\n",
              "    .dataframe tbody tr th:only-of-type {\n",
              "        vertical-align: middle;\n",
              "    }\n",
              "\n",
              "    .dataframe tbody tr th {\n",
              "        vertical-align: top;\n",
              "    }\n",
              "\n",
              "    .dataframe thead th {\n",
              "        text-align: right;\n",
              "    }\n",
              "</style>\n",
              "<table border=\"1\" class=\"dataframe\">\n",
              "  <thead>\n",
              "    <tr style=\"text-align: right;\">\n",
              "      <th></th>\n",
              "      <th>Unnamed: 0</th>\n",
              "      <th>name</th>\n",
              "      <th>category</th>\n",
              "      <th>review.point</th>\n",
              "      <th>price</th>\n",
              "      <th>currency</th>\n",
              "      <th>description</th>\n",
              "    </tr>\n",
              "  </thead>\n",
              "  <tbody>\n",
              "    <tr>\n",
              "      <th>0</th>\n",
              "      <td>1</td>\n",
              "      <td>Johnnie Walker Blue Label, 40%</td>\n",
              "      <td>Blended Scotch Whisky</td>\n",
              "      <td>97</td>\n",
              "      <td>225</td>\n",
              "      <td>$</td>\n",
              "      <td>Magnificently powerful and intense. Caramels, dried peats, elegant cigar smoke, seeds scraped from vanilla beans, brand new pencils, peppercorn, coriander seeds, and star anise make for a deeply satisfying nosing experience. Silky caramels, bountiful fruits of ripe peach, stewed apple, orange pith, and pervasive smoke with elements of burnt tobacco. An abiding finish of smoke, dry spices, and banoffee pie sweetness. Close to perfection. Editor's Choice</td>\n",
              "    </tr>\n",
              "    <tr>\n",
              "      <th>1</th>\n",
              "      <td>2</td>\n",
              "      <td>Black Bowmore, 1964 vintage, 42 year old, 40.5%</td>\n",
              "      <td>Single Malt Scotch</td>\n",
              "      <td>97</td>\n",
              "      <td>4500.00</td>\n",
              "      <td>$</td>\n",
              "      <td>What impresses me most is how this whisky evolves; it's incredibly complex. On the nose and palate, this is a thick, viscous, whisky with notes of sticky toffee, earthy oak, fig cake, roasted nuts, fallen fruit, pancake batter, black cherry, ripe peach, dark chocolate-covered espresso bean, polished leather, tobacco, a hint of wild game, and lingering, leafy damp kiln smoke. Flavors continue on the palate long after swallowing. This is what we all hope for (and dream of) in an older whisky!</td>\n",
              "    </tr>\n",
              "    <tr>\n",
              "      <th>2</th>\n",
              "      <td>3</td>\n",
              "      <td>Bowmore 46 year old (distilled 1964), 42.9%</td>\n",
              "      <td>Single Malt Scotch</td>\n",
              "      <td>97</td>\n",
              "      <td>13500.00</td>\n",
              "      <td>$</td>\n",
              "      <td>There have been some legendary Bowmores from the mid-60s and this is every bit their equal. All of them share a remarkable aroma of tropical fruit, which here moves into hallucinatory intensity: guava, mango, peach, pineapple, grapefruit. There’s a very light touch of peat smoke, more a memory of Islay than the reality. Concentrated; even at low strength the palate is silky, heady, and haunting, and lasts forever in the dry glass. A legend is born. (Eight bottles only for the U.S.) Editor's Choice.</td>\n",
              "    </tr>\n",
              "    <tr>\n",
              "      <th>3</th>\n",
              "      <td>4</td>\n",
              "      <td>Compass Box The General, 53.4%</td>\n",
              "      <td>Blended Malt Scotch Whisky</td>\n",
              "      <td>96</td>\n",
              "      <td>325</td>\n",
              "      <td>$</td>\n",
              "      <td>With a name inspired by a 1926 Buster Keaton movie, only 1,698 bottles produced, and the news that one of the two batches is more than 30 years old, the clues were there that this blend was never going to be cheap. It isn't, but it's superb, rich in flavor that screams dusty old oak office, fresh polish, and Sunday church, with spices, oak dried fruits, squiggly raisins, and a surprising melting fruit-and-nut dairy chocolate back story.</td>\n",
              "    </tr>\n",
              "    <tr>\n",
              "      <th>4</th>\n",
              "      <td>5</td>\n",
              "      <td>Chivas Regal Ultis, 40%</td>\n",
              "      <td>Blended Malt Scotch Whisky</td>\n",
              "      <td>96</td>\n",
              "      <td>160</td>\n",
              "      <td>$</td>\n",
              "      <td>Captivating, enticing, and wonderfully charming, this first blended malt from Chivas Regal contains selections of five Speyside malts: Strathisla, Longmorn, Tormore, Allt-a-Bhainne, and Braeval. Red apple, cherry, raspberry fudge, peach and mango fruit salad, dusting of cinnamon, and dry heather sprigs. In essence, it’s rich and satisfying, with dark vanilla, apricot, Bourneville-covered Brazil nuts, and tangerine, smoothed over by caramel and wood spices, maltiness, and gingersnap biscuits. Quite heavenly. Editor's Choice</td>\n",
              "    </tr>\n",
              "  </tbody>\n",
              "</table>\n",
              "</div>"
            ],
            "text/plain": [
              "   Unnamed: 0  ...                                                                                                                                                                                                                                                                                                                                                                                                                                                                                                                                       description\n",
              "0  1           ...  Magnificently powerful and intense. Caramels, dried peats, elegant cigar smoke, seeds scraped from vanilla beans, brand new pencils, peppercorn, coriander seeds, and star anise make for a deeply satisfying nosing experience. Silky caramels, bountiful fruits of ripe peach, stewed apple, orange pith, and pervasive smoke with elements of burnt tobacco. An abiding finish of smoke, dry spices, and banoffee pie sweetness. Close to perfection. Editor's Choice                                                                        \n",
              "1  2           ...  What impresses me most is how this whisky evolves; it's incredibly complex. On the nose and palate, this is a thick, viscous, whisky with notes of sticky toffee, earthy oak, fig cake, roasted nuts, fallen fruit, pancake batter, black cherry, ripe peach, dark chocolate-covered espresso bean, polished leather, tobacco, a hint of wild game, and lingering, leafy damp kiln smoke. Flavors continue on the palate long after swallowing. This is what we all hope for (and dream of) in an older whisky!                                 \n",
              "2  3           ...  There have been some legendary Bowmores from the mid-60s and this is every bit their equal. All of them share a remarkable aroma of tropical fruit, which here moves into hallucinatory intensity: guava, mango, peach, pineapple, grapefruit. There’s a very light touch of peat smoke, more a memory of Islay than the reality. Concentrated; even at low strength the palate is silky, heady, and haunting, and lasts forever in the dry glass. A legend is born. (Eight bottles only for the U.S.) Editor's Choice.                         \n",
              "3  4           ...  With a name inspired by a 1926 Buster Keaton movie, only 1,698 bottles produced, and the news that one of the two batches is more than 30 years old, the clues were there that this blend was never going to be cheap. It isn't, but it's superb, rich in flavor that screams dusty old oak office, fresh polish, and Sunday church, with spices, oak dried fruits, squiggly raisins, and a surprising melting fruit-and-nut dairy chocolate back story.                                                                                        \n",
              "4  5           ...  Captivating, enticing, and wonderfully charming, this first blended malt from Chivas Regal contains selections of five Speyside malts: Strathisla, Longmorn, Tormore, Allt-a-Bhainne, and Braeval. Red apple, cherry, raspberry fudge, peach and mango fruit salad, dusting of cinnamon, and dry heather sprigs. In essence, it’s rich and satisfying, with dark vanilla, apricot, Bourneville-covered Brazil nuts, and tangerine, smoothed over by caramel and wood spices, maltiness, and gingersnap biscuits. Quite heavenly. Editor's Choice\n",
              "\n",
              "[5 rows x 7 columns]"
            ]
          },
          "metadata": {
            "tags": []
          },
          "execution_count": 187
        }
      ]
    },
    {
      "cell_type": "code",
      "metadata": {
        "id": "EIgcu9RWgbYy",
        "colab_type": "code",
        "outputId": "584aa4db-9618-4f44-86d3-46471b15b9fe",
        "colab": {
          "base_uri": "https://localhost:8080/",
          "height": 191
        }
      },
      "source": [
        "scotch.drop(['currency', 'Unnamed: 0', 'description'], axis=1, inplace=True)\n",
        "scotch.head(5)"
      ],
      "execution_count": 188,
      "outputs": [
        {
          "output_type": "execute_result",
          "data": {
            "text/html": [
              "<div>\n",
              "<style scoped>\n",
              "    .dataframe tbody tr th:only-of-type {\n",
              "        vertical-align: middle;\n",
              "    }\n",
              "\n",
              "    .dataframe tbody tr th {\n",
              "        vertical-align: top;\n",
              "    }\n",
              "\n",
              "    .dataframe thead th {\n",
              "        text-align: right;\n",
              "    }\n",
              "</style>\n",
              "<table border=\"1\" class=\"dataframe\">\n",
              "  <thead>\n",
              "    <tr style=\"text-align: right;\">\n",
              "      <th></th>\n",
              "      <th>name</th>\n",
              "      <th>category</th>\n",
              "      <th>review.point</th>\n",
              "      <th>price</th>\n",
              "    </tr>\n",
              "  </thead>\n",
              "  <tbody>\n",
              "    <tr>\n",
              "      <th>0</th>\n",
              "      <td>Johnnie Walker Blue Label, 40%</td>\n",
              "      <td>Blended Scotch Whisky</td>\n",
              "      <td>97</td>\n",
              "      <td>225</td>\n",
              "    </tr>\n",
              "    <tr>\n",
              "      <th>1</th>\n",
              "      <td>Black Bowmore, 1964 vintage, 42 year old, 40.5%</td>\n",
              "      <td>Single Malt Scotch</td>\n",
              "      <td>97</td>\n",
              "      <td>4500.00</td>\n",
              "    </tr>\n",
              "    <tr>\n",
              "      <th>2</th>\n",
              "      <td>Bowmore 46 year old (distilled 1964), 42.9%</td>\n",
              "      <td>Single Malt Scotch</td>\n",
              "      <td>97</td>\n",
              "      <td>13500.00</td>\n",
              "    </tr>\n",
              "    <tr>\n",
              "      <th>3</th>\n",
              "      <td>Compass Box The General, 53.4%</td>\n",
              "      <td>Blended Malt Scotch Whisky</td>\n",
              "      <td>96</td>\n",
              "      <td>325</td>\n",
              "    </tr>\n",
              "    <tr>\n",
              "      <th>4</th>\n",
              "      <td>Chivas Regal Ultis, 40%</td>\n",
              "      <td>Blended Malt Scotch Whisky</td>\n",
              "      <td>96</td>\n",
              "      <td>160</td>\n",
              "    </tr>\n",
              "  </tbody>\n",
              "</table>\n",
              "</div>"
            ],
            "text/plain": [
              "                                              name  ...     price\n",
              "0  Johnnie Walker Blue Label, 40%                   ...  225     \n",
              "1  Black Bowmore, 1964 vintage, 42 year old, 40.5%  ...  4500.00 \n",
              "2  Bowmore 46 year old (distilled 1964), 42.9%      ...  13500.00\n",
              "3  Compass Box The General, 53.4%                   ...  325     \n",
              "4  Chivas Regal Ultis, 40%                          ...  160     \n",
              "\n",
              "[5 rows x 4 columns]"
            ]
          },
          "metadata": {
            "tags": []
          },
          "execution_count": 188
        }
      ]
    },
    {
      "cell_type": "code",
      "metadata": {
        "id": "y_GFzNYRVUIQ",
        "colab_type": "code",
        "outputId": "f145b3c1-b2cb-4aed-f05f-a5c9d736f40b",
        "colab": {
          "base_uri": "https://localhost:8080/",
          "height": 196
        }
      },
      "source": [
        "scotch.info()"
      ],
      "execution_count": 189,
      "outputs": [
        {
          "output_type": "stream",
          "text": [
            "<class 'pandas.core.frame.DataFrame'>\n",
            "RangeIndex: 2247 entries, 0 to 2246\n",
            "Data columns (total 4 columns):\n",
            " #   Column        Non-Null Count  Dtype \n",
            "---  ------        --------------  ----- \n",
            " 0   name          2247 non-null   object\n",
            " 1   category      2247 non-null   object\n",
            " 2   review.point  2247 non-null   int64 \n",
            " 3   price         2247 non-null   object\n",
            "dtypes: int64(1), object(3)\n",
            "memory usage: 70.3+ KB\n"
          ],
          "name": "stdout"
        }
      ]
    },
    {
      "cell_type": "markdown",
      "metadata": {
        "id": "UrdKm8ZeVUS_",
        "colab_type": "text"
      },
      "source": [
        "Parsowanie ceny"
      ]
    },
    {
      "cell_type": "code",
      "metadata": {
        "id": "3dzwBqpXTETP",
        "colab_type": "code",
        "outputId": "1ffa94d1-0a38-485a-d21f-d0d6ef995d36",
        "colab": {
          "base_uri": "https://localhost:8080/",
          "height": 66
        }
      },
      "source": [
        "def parse_price(text):\n",
        "  try:\n",
        "    return float(text)\n",
        "  except:\n",
        "    pass\n",
        "  return None\n",
        "scotch['price'] = [parse_price(price) for price in scotch['price']]\n",
        "scotch['price'].isnull().value_counts()"
      ],
      "execution_count": 190,
      "outputs": [
        {
          "output_type": "execute_result",
          "data": {
            "text/plain": [
              "False    2228\n",
              "True     19  \n",
              "Name: price, dtype: int64"
            ]
          },
          "metadata": {
            "tags": []
          },
          "execution_count": 190
        }
      ]
    },
    {
      "cell_type": "code",
      "metadata": {
        "id": "LYinABazVdbm",
        "colab_type": "code",
        "outputId": "cacbc3bd-9af2-4a84-cf64-9ef64dee4ce4",
        "colab": {
          "base_uri": "https://localhost:8080/",
          "height": 196
        }
      },
      "source": [
        "scotch.dropna(inplace=True)\n",
        "scotch.info()"
      ],
      "execution_count": 191,
      "outputs": [
        {
          "output_type": "stream",
          "text": [
            "<class 'pandas.core.frame.DataFrame'>\n",
            "Int64Index: 2228 entries, 0 to 2246\n",
            "Data columns (total 4 columns):\n",
            " #   Column        Non-Null Count  Dtype  \n",
            "---  ------        --------------  -----  \n",
            " 0   name          2228 non-null   object \n",
            " 1   category      2228 non-null   object \n",
            " 2   review.point  2228 non-null   int64  \n",
            " 3   price         2228 non-null   float64\n",
            "dtypes: float64(1), int64(1), object(2)\n",
            "memory usage: 87.0+ KB\n"
          ],
          "name": "stdout"
        }
      ]
    },
    {
      "cell_type": "markdown",
      "metadata": {
        "id": "7omHHn0Wwdpt",
        "colab_type": "text"
      },
      "source": [
        "Parsowanie zawartości alkoholu"
      ]
    },
    {
      "cell_type": "code",
      "metadata": {
        "id": "9eNW7Sq6t7qM",
        "colab_type": "code",
        "outputId": "6210f499-b488-4eec-8fb5-f7ffa5404f9e",
        "colab": {
          "base_uri": "https://localhost:8080/",
          "height": 115
        }
      },
      "source": [
        "scotch_abv_test = scotch.copy()\n",
        "\n",
        "import re\n",
        "def parse_alcohol(text):\n",
        "  matches = re.search(r\"([\\d.]+)%\", str(text))\n",
        "  return float(matches.group(1)) if matches else None\n",
        "\n",
        "scotch_abv_test['abv'] = [parse_alcohol(name) for name in scotch_abv_test['name']]\n",
        "scotch_abv_test.isnull().sum()"
      ],
      "execution_count": 192,
      "outputs": [
        {
          "output_type": "execute_result",
          "data": {
            "text/plain": [
              "name            0 \n",
              "category        0 \n",
              "review.point    0 \n",
              "price           0 \n",
              "abv             16\n",
              "dtype: int64"
            ]
          },
          "metadata": {
            "tags": []
          },
          "execution_count": 192
        }
      ]
    },
    {
      "cell_type": "code",
      "metadata": {
        "id": "pTdFNt44xePR",
        "colab_type": "code",
        "outputId": "cfa8fd05-67a4-4368-ac5e-bcb4eab523df",
        "colab": {
          "base_uri": "https://localhost:8080/",
          "height": 507
        }
      },
      "source": [
        "scotch_abv_test[scotch_abv_test['abv'].isnull()]"
      ],
      "execution_count": 193,
      "outputs": [
        {
          "output_type": "execute_result",
          "data": {
            "text/html": [
              "<div>\n",
              "<style scoped>\n",
              "    .dataframe tbody tr th:only-of-type {\n",
              "        vertical-align: middle;\n",
              "    }\n",
              "\n",
              "    .dataframe tbody tr th {\n",
              "        vertical-align: top;\n",
              "    }\n",
              "\n",
              "    .dataframe thead th {\n",
              "        text-align: right;\n",
              "    }\n",
              "</style>\n",
              "<table border=\"1\" class=\"dataframe\">\n",
              "  <thead>\n",
              "    <tr style=\"text-align: right;\">\n",
              "      <th></th>\n",
              "      <th>name</th>\n",
              "      <th>category</th>\n",
              "      <th>review.point</th>\n",
              "      <th>price</th>\n",
              "      <th>abv</th>\n",
              "    </tr>\n",
              "  </thead>\n",
              "  <tbody>\n",
              "    <tr>\n",
              "      <th>91</th>\n",
              "      <td>Ardbeg An Oa</td>\n",
              "      <td>Single Malt Scotch</td>\n",
              "      <td>93</td>\n",
              "      <td>60.0</td>\n",
              "      <td>NaN</td>\n",
              "    </tr>\n",
              "    <tr>\n",
              "      <th>93</th>\n",
              "      <td>Balvenie 1973 Vintage, 30 year old, Cask #9219</td>\n",
              "      <td>Single Malt Scotch</td>\n",
              "      <td>93</td>\n",
              "      <td>400.0</td>\n",
              "      <td>NaN</td>\n",
              "    </tr>\n",
              "    <tr>\n",
              "      <th>189</th>\n",
              "      <td>Bowmore Oloroso Sherry Cask, 1964 Vintage</td>\n",
              "      <td>Single Malt Scotch</td>\n",
              "      <td>92</td>\n",
              "      <td>1500.0</td>\n",
              "      <td>NaN</td>\n",
              "    </tr>\n",
              "    <tr>\n",
              "      <th>309</th>\n",
              "      <td>Scott</td>\n",
              "      <td>Single Malt Scotch</td>\n",
              "      <td>91</td>\n",
              "      <td>130.0</td>\n",
              "      <td>NaN</td>\n",
              "    </tr>\n",
              "    <tr>\n",
              "      <th>388</th>\n",
              "      <td>Compass Box Hedonism Maximus</td>\n",
              "      <td>Grain Scotch Whisky</td>\n",
              "      <td>90</td>\n",
              "      <td>300.0</td>\n",
              "      <td>NaN</td>\n",
              "    </tr>\n",
              "    <tr>\n",
              "      <th>612</th>\n",
              "      <td>Cadenhead</td>\n",
              "      <td>Single Malt Scotch</td>\n",
              "      <td>89</td>\n",
              "      <td>125.0</td>\n",
              "      <td>NaN</td>\n",
              "    </tr>\n",
              "    <tr>\n",
              "      <th>640</th>\n",
              "      <td>Glenfarclas £511. 19s. 0d.</td>\n",
              "      <td>Single Malt Scotch</td>\n",
              "      <td>89</td>\n",
              "      <td>130.0</td>\n",
              "      <td>NaN</td>\n",
              "    </tr>\n",
              "    <tr>\n",
              "      <th>668</th>\n",
              "      <td>Murray McDavid</td>\n",
              "      <td>Single Malt Scotch</td>\n",
              "      <td>89</td>\n",
              "      <td>150.0</td>\n",
              "      <td>NaN</td>\n",
              "    </tr>\n",
              "    <tr>\n",
              "      <th>909</th>\n",
              "      <td>Wemyss Malts ‘Honey Spice’ (distilled at Bunnahabhain) 1991 (bottled 2011)</td>\n",
              "      <td>Single Malt Scotch</td>\n",
              "      <td>88</td>\n",
              "      <td>96.0</td>\n",
              "      <td>NaN</td>\n",
              "    </tr>\n",
              "    <tr>\n",
              "      <th>984</th>\n",
              "      <td>Cask &amp; Thistle (distilled at Aberfeldy), 29 year old, 1974 Vintage</td>\n",
              "      <td>Single Malt Scotch</td>\n",
              "      <td>87</td>\n",
              "      <td>110.0</td>\n",
              "      <td>NaN</td>\n",
              "    </tr>\n",
              "    <tr>\n",
              "      <th>987</th>\n",
              "      <td>Ardmore Traditional Cask 1998</td>\n",
              "      <td>Single Malt Scotch</td>\n",
              "      <td>87</td>\n",
              "      <td>50.0</td>\n",
              "      <td>NaN</td>\n",
              "    </tr>\n",
              "    <tr>\n",
              "      <th>1002</th>\n",
              "      <td>Wild Scotsman (distilled at Ben Nevis), 13 year old, 1992 vintage, cask #693</td>\n",
              "      <td>Single Malt Scotch</td>\n",
              "      <td>87</td>\n",
              "      <td>70.0</td>\n",
              "      <td>NaN</td>\n",
              "    </tr>\n",
              "    <tr>\n",
              "      <th>1504</th>\n",
              "      <td>Duncan Taylor NC2 (distilled at Imperial) 1997 13 year old</td>\n",
              "      <td>Single Malt Scotch</td>\n",
              "      <td>85</td>\n",
              "      <td>60.0</td>\n",
              "      <td>NaN</td>\n",
              "    </tr>\n",
              "    <tr>\n",
              "      <th>1647</th>\n",
              "      <td>Bruichladdich Full Strength, 1989 vintage, 13 years old, 57.1 ABV %</td>\n",
              "      <td>Single Malt Scotch</td>\n",
              "      <td>84</td>\n",
              "      <td>90.0</td>\n",
              "      <td>NaN</td>\n",
              "    </tr>\n",
              "    <tr>\n",
              "      <th>1956</th>\n",
              "      <td>Gordon &amp; MacPhail (distilled at Glenlossie), 27 year old, 1978 vintage, cask #1815</td>\n",
              "      <td>Single Malt Scotch</td>\n",
              "      <td>82</td>\n",
              "      <td>90.0</td>\n",
              "      <td>NaN</td>\n",
              "    </tr>\n",
              "    <tr>\n",
              "      <th>2034</th>\n",
              "      <td>Berry Brothers &amp; Rudd (distilled at Cragganmore) 1997 14 year old</td>\n",
              "      <td>Single Malt Scotch</td>\n",
              "      <td>81</td>\n",
              "      <td>93.0</td>\n",
              "      <td>NaN</td>\n",
              "    </tr>\n",
              "  </tbody>\n",
              "</table>\n",
              "</div>"
            ],
            "text/plain": [
              "                                                                                    name  ... abv\n",
              "91    Ardbeg An Oa                                                                        ... NaN\n",
              "93    Balvenie 1973 Vintage, 30 year old, Cask #9219                                      ... NaN\n",
              "189   Bowmore Oloroso Sherry Cask, 1964 Vintage                                           ... NaN\n",
              "309   Scott                                                                               ... NaN\n",
              "388   Compass Box Hedonism Maximus                                                        ... NaN\n",
              "612   Cadenhead                                                                           ... NaN\n",
              "640   Glenfarclas £511. 19s. 0d.                                                          ... NaN\n",
              "668   Murray McDavid                                                                      ... NaN\n",
              "909   Wemyss Malts ‘Honey Spice’ (distilled at Bunnahabhain) 1991 (bottled 2011)          ... NaN\n",
              "984   Cask & Thistle (distilled at Aberfeldy), 29 year old, 1974 Vintage                  ... NaN\n",
              "987   Ardmore Traditional Cask 1998                                                       ... NaN\n",
              "1002  Wild Scotsman (distilled at Ben Nevis), 13 year old, 1992 vintage, cask #693        ... NaN\n",
              "1504  Duncan Taylor NC2 (distilled at Imperial) 1997 13 year old                          ... NaN\n",
              "1647  Bruichladdich Full Strength, 1989 vintage, 13 years old, 57.1 ABV %                 ... NaN\n",
              "1956  Gordon & MacPhail (distilled at Glenlossie), 27 year old, 1978 vintage, cask #1815  ... NaN\n",
              "2034  Berry Brothers & Rudd (distilled at Cragganmore) 1997 14 year old                   ... NaN\n",
              "\n",
              "[16 rows x 5 columns]"
            ]
          },
          "metadata": {
            "tags": []
          },
          "execution_count": 193
        }
      ]
    },
    {
      "cell_type": "code",
      "metadata": {
        "id": "0GSUa4L0XasX",
        "colab_type": "code",
        "colab": {
          "base_uri": "https://localhost:8080/",
          "height": 115
        },
        "outputId": "22204d7e-0465-4d0f-f072-e4d9b05b370f"
      },
      "source": [
        "scotch_abv_test.dropna(inplace=True)\n",
        "scotch_abv_test.isnull().sum()"
      ],
      "execution_count": 194,
      "outputs": [
        {
          "output_type": "execute_result",
          "data": {
            "text/plain": [
              "name            0\n",
              "category        0\n",
              "review.point    0\n",
              "price           0\n",
              "abv             0\n",
              "dtype: int64"
            ]
          },
          "metadata": {
            "tags": []
          },
          "execution_count": 194
        }
      ]
    },
    {
      "cell_type": "markdown",
      "metadata": {
        "id": "W-2uSXEl1_VI",
        "colab_type": "text"
      },
      "source": [
        "Weryfikacja danych\n"
      ]
    },
    {
      "cell_type": "code",
      "metadata": {
        "id": "pWmY7ySj1YVq",
        "colab_type": "code",
        "outputId": "8da5691b-b862-45a4-b0c2-eb9e3d53af97",
        "colab": {
          "base_uri": "https://localhost:8080/",
          "height": 163
        }
      },
      "source": [
        "scotch_abv_test['abv'].describe()"
      ],
      "execution_count": 195,
      "outputs": [
        {
          "output_type": "execute_result",
          "data": {
            "text/plain": [
              "count    2212.000000\n",
              "mean     47.988603  \n",
              "std      6.261953   \n",
              "min      40.000000  \n",
              "25%      43.000000  \n",
              "50%      46.000000  \n",
              "75%      52.200000  \n",
              "max      100.000000 \n",
              "Name: abv, dtype: float64"
            ]
          },
          "metadata": {
            "tags": []
          },
          "execution_count": 195
        }
      ]
    },
    {
      "cell_type": "code",
      "metadata": {
        "id": "zpaHFUdOH6Y0",
        "colab_type": "code",
        "outputId": "0b1d48a5-e28b-4d33-af3e-e99b8ba166f7",
        "colab": {
          "base_uri": "https://localhost:8080/",
          "height": 818
        }
      },
      "source": [
        "scotch_abv_test.reset_index().plot.scatter(x='index', y='abv')\n",
        "scotch_abv_test.reset_index().plot.scatter(x='index', y='price')\n",
        "scotch_abv_test.reset_index().plot.scatter(x='index', y='review.point')"
      ],
      "execution_count": 196,
      "outputs": [
        {
          "output_type": "execute_result",
          "data": {
            "text/plain": [
              "<matplotlib.axes._subplots.AxesSubplot at 0x7fdb7ac97128>"
            ]
          },
          "metadata": {
            "tags": []
          },
          "execution_count": 196
        },
        {
          "output_type": "display_data",
          "data": {
            "image/png": "[encoded data removed]",
            "text/plain": [
              "<Figure size 432x288 with 1 Axes>"
            ]
          },
          "metadata": {
            "tags": [],
            "needs_background": "light"
          }
        },
        {
          "output_type": "display_data",
          "data": {
            "image/png": "[encoded data removed]",
            "text/plain": [
              "<Figure size 432x288 with 1 Axes>"
            ]
          },
          "metadata": {
            "tags": [],
            "needs_background": "light"
          }
        },
        {
          "output_type": "display_data",
          "data": {
            "image/png": "[encoded data removed]",
            "text/plain": [
              "<Figure size 432x288 with 1 Axes>"
            ]
          },
          "metadata": {
            "tags": [],
            "needs_background": "light"
          }
        }
      ]
    },
    {
      "cell_type": "markdown",
      "metadata": {
        "id": "M_mrgHi7E_NC",
        "colab_type": "text"
      },
      "source": [
        "Usuwamy odstające dane"
      ]
    },
    {
      "cell_type": "code",
      "metadata": {
        "id": "7NuK5K3ZN5Pl",
        "colab_type": "code",
        "outputId": "6241e09d-7511-46bf-f59a-ade330832c58",
        "colab": {
          "base_uri": "https://localhost:8080/",
          "height": 82
        }
      },
      "source": [
        "q1 = scotch_abv_test.quantile(0.25)\n",
        "q3 = scotch_abv_test.quantile(0.75)\n",
        " \n",
        "iqr = q3 - q1\n",
        "iqr"
      ],
      "execution_count": 197,
      "outputs": [
        {
          "output_type": "execute_result",
          "data": {
            "text/plain": [
              "review.point    5.0  \n",
              "price           130.0\n",
              "abv             9.2  \n",
              "dtype: float64"
            ]
          },
          "metadata": {
            "tags": []
          },
          "execution_count": 197
        }
      ]
    },
    {
      "cell_type": "code",
      "metadata": {
        "id": "HyBwnlErONdY",
        "colab_type": "code",
        "outputId": "b9b9a40a-0198-4b1a-b45b-5a4f866ead33",
        "colab": {
          "base_uri": "https://localhost:8080/",
          "height": 115
        }
      },
      "source": [
        "outliers = (scotch_abv_test < (q1 - 3.0 * iqr)) | (scotch_abv_test > (q3 + 3.0 * iqr))\n",
        "outliers.sum()"
      ],
      "execution_count": 198,
      "outputs": [
        {
          "output_type": "execute_result",
          "data": {
            "text/plain": [
              "abv             4  \n",
              "category        0  \n",
              "name            0  \n",
              "price           210\n",
              "review.point    1  \n",
              "dtype: int64"
            ]
          },
          "metadata": {
            "tags": []
          },
          "execution_count": 198
        }
      ]
    },
    {
      "cell_type": "code",
      "metadata": {
        "id": "X9nrwIG3dImm",
        "colab_type": "code",
        "colab": {
          "base_uri": "https://localhost:8080/",
          "height": 391
        },
        "outputId": "49829ffa-b14e-42b6-f555-4e21ce408d83"
      },
      "source": [
        "scotch_abv_test[outliers.any(1)]"
      ],
      "execution_count": 199,
      "outputs": [
        {
          "output_type": "execute_result",
          "data": {
            "text/html": [
              "<div>\n",
              "<style scoped>\n",
              "    .dataframe tbody tr th:only-of-type {\n",
              "        vertical-align: middle;\n",
              "    }\n",
              "\n",
              "    .dataframe tbody tr th {\n",
              "        vertical-align: top;\n",
              "    }\n",
              "\n",
              "    .dataframe thead th {\n",
              "        text-align: right;\n",
              "    }\n",
              "</style>\n",
              "<table border=\"1\" class=\"dataframe\">\n",
              "  <thead>\n",
              "    <tr style=\"text-align: right;\">\n",
              "      <th></th>\n",
              "      <th>name</th>\n",
              "      <th>category</th>\n",
              "      <th>review.point</th>\n",
              "      <th>price</th>\n",
              "      <th>abv</th>\n",
              "    </tr>\n",
              "  </thead>\n",
              "  <tbody>\n",
              "    <tr>\n",
              "      <th>1</th>\n",
              "      <td>Black Bowmore, 1964 vintage, 42 year old, 40.5%</td>\n",
              "      <td>Single Malt Scotch</td>\n",
              "      <td>97</td>\n",
              "      <td>4500.0</td>\n",
              "      <td>40.5</td>\n",
              "    </tr>\n",
              "    <tr>\n",
              "      <th>2</th>\n",
              "      <td>Bowmore 46 year old (distilled 1964), 42.9%</td>\n",
              "      <td>Single Malt Scotch</td>\n",
              "      <td>97</td>\n",
              "      <td>13500.0</td>\n",
              "      <td>42.9</td>\n",
              "    </tr>\n",
              "    <tr>\n",
              "      <th>6</th>\n",
              "      <td>Gold Bowmore, 1964 vintage, 42.4%</td>\n",
              "      <td>Single Malt Scotch</td>\n",
              "      <td>96</td>\n",
              "      <td>6250.0</td>\n",
              "      <td>42.4</td>\n",
              "    </tr>\n",
              "    <tr>\n",
              "      <th>7</th>\n",
              "      <td>Bowmore, 40 year old, 44.8%</td>\n",
              "      <td>Single Malt Scotch</td>\n",
              "      <td>96</td>\n",
              "      <td>11000.0</td>\n",
              "      <td>44.8</td>\n",
              "    </tr>\n",
              "    <tr>\n",
              "      <th>8</th>\n",
              "      <td>The Dalmore, 50 year old, 52.8%</td>\n",
              "      <td>Single Malt Scotch</td>\n",
              "      <td>96</td>\n",
              "      <td>1500.0</td>\n",
              "      <td>52.8</td>\n",
              "    </tr>\n",
              "    <tr>\n",
              "      <th>...</th>\n",
              "      <td>...</td>\n",
              "      <td>...</td>\n",
              "      <td>...</td>\n",
              "      <td>...</td>\n",
              "      <td>...</td>\n",
              "    </tr>\n",
              "    <tr>\n",
              "      <th>2177</th>\n",
              "      <td>Gordon &amp; MacPhail Private Collection: The Glenlivet Decades 1974, 50.1%</td>\n",
              "      <td>Single Malt Scotch</td>\n",
              "      <td>79</td>\n",
              "      <td>820.0</td>\n",
              "      <td>50.1</td>\n",
              "    </tr>\n",
              "    <tr>\n",
              "      <th>2218</th>\n",
              "      <td>Auchentoshan 1962, 41 year old, 40.3%</td>\n",
              "      <td>Single Malt Scotch</td>\n",
              "      <td>77</td>\n",
              "      <td>2000.0</td>\n",
              "      <td>40.3</td>\n",
              "    </tr>\n",
              "    <tr>\n",
              "      <th>2236</th>\n",
              "      <td>The Macallan Lalique Decanter, 55 year old, 40.1%</td>\n",
              "      <td>Single Malt Scotch</td>\n",
              "      <td>74</td>\n",
              "      <td>12000.0</td>\n",
              "      <td>40.1</td>\n",
              "    </tr>\n",
              "    <tr>\n",
              "      <th>2237</th>\n",
              "      <td>Signatory (distilled at Kinclaith), Cask #301446, 35 year old, 1969 vintage, 51.3%</td>\n",
              "      <td>Single Malt Scotch</td>\n",
              "      <td>73</td>\n",
              "      <td>1700.0</td>\n",
              "      <td>51.3</td>\n",
              "    </tr>\n",
              "    <tr>\n",
              "      <th>2246</th>\n",
              "      <td>Distillery Select 'Inchmoan' (distilled at Loch Lomond), Cask #151, 13 year old, 1992 vintage, 45%</td>\n",
              "      <td>Single Malt Scotch</td>\n",
              "      <td>63</td>\n",
              "      <td>60.0</td>\n",
              "      <td>45.0</td>\n",
              "    </tr>\n",
              "  </tbody>\n",
              "</table>\n",
              "<p>215 rows × 5 columns</p>\n",
              "</div>"
            ],
            "text/plain": [
              "                                                                                                    name  ...   abv\n",
              "1     Black Bowmore, 1964 vintage, 42 year old, 40.5%                                                     ...  40.5\n",
              "2     Bowmore 46 year old (distilled 1964), 42.9%                                                         ...  42.9\n",
              "6     Gold Bowmore, 1964 vintage, 42.4%                                                                   ...  42.4\n",
              "7     Bowmore, 40 year old, 44.8%                                                                         ...  44.8\n",
              "8     The Dalmore, 50 year old, 52.8%                                                                     ...  52.8\n",
              "...                               ...                                                                     ...   ...\n",
              "2177  Gordon & MacPhail Private Collection: The Glenlivet Decades 1974, 50.1%                             ...  50.1\n",
              "2218  Auchentoshan 1962, 41 year old, 40.3%                                                               ...  40.3\n",
              "2236  The Macallan Lalique Decanter, 55 year old, 40.1%                                                   ...  40.1\n",
              "2237  Signatory (distilled at Kinclaith), Cask #301446, 35 year old, 1969 vintage, 51.3%                  ...  51.3\n",
              "2246  Distillery Select 'Inchmoan' (distilled at Loch Lomond), Cask #151, 13 year old, 1992 vintage, 45%  ...  45.0\n",
              "\n",
              "[215 rows x 5 columns]"
            ]
          },
          "metadata": {
            "tags": []
          },
          "execution_count": 199
        }
      ]
    },
    {
      "cell_type": "code",
      "metadata": {
        "id": "ke8lOH42dG0v",
        "colab_type": "code",
        "colab": {}
      },
      "source": [
        "# scotch_abv_test.reset_index().plot.scatter(x='index', y='abv', c={\"b\": outliers.any(1), \"r\": ~outliers.any(1)})"
      ],
      "execution_count": 0,
      "outputs": []
    },
    {
      "cell_type": "code",
      "metadata": {
        "id": "zXeA7bsnPCvx",
        "colab_type": "code",
        "outputId": "2cf2e56b-868f-496e-c1bd-492df66511fe",
        "colab": {
          "base_uri": "https://localhost:8080/",
          "height": 277
        }
      },
      "source": [
        "no_outliers = ~(outliers).any(axis=1)\n",
        "\n",
        "scotch_abv_test._update_inplace(scotch_abv_test[no_outliers])\n",
        "scotch_abv_test.describe()"
      ],
      "execution_count": 201,
      "outputs": [
        {
          "output_type": "execute_result",
          "data": {
            "text/html": [
              "<div>\n",
              "<style scoped>\n",
              "    .dataframe tbody tr th:only-of-type {\n",
              "        vertical-align: middle;\n",
              "    }\n",
              "\n",
              "    .dataframe tbody tr th {\n",
              "        vertical-align: top;\n",
              "    }\n",
              "\n",
              "    .dataframe thead th {\n",
              "        text-align: right;\n",
              "    }\n",
              "</style>\n",
              "<table border=\"1\" class=\"dataframe\">\n",
              "  <thead>\n",
              "    <tr style=\"text-align: right;\">\n",
              "      <th></th>\n",
              "      <th>review.point</th>\n",
              "      <th>price</th>\n",
              "      <th>abv</th>\n",
              "    </tr>\n",
              "  </thead>\n",
              "  <tbody>\n",
              "    <tr>\n",
              "      <th>count</th>\n",
              "      <td>1997.000000</td>\n",
              "      <td>1997.000000</td>\n",
              "      <td>1997.000000</td>\n",
              "    </tr>\n",
              "    <tr>\n",
              "      <th>mean</th>\n",
              "      <td>86.359539</td>\n",
              "      <td>134.379069</td>\n",
              "      <td>47.894537</td>\n",
              "    </tr>\n",
              "    <tr>\n",
              "      <th>std</th>\n",
              "      <td>3.878920</td>\n",
              "      <td>106.943213</td>\n",
              "      <td>5.934050</td>\n",
              "    </tr>\n",
              "    <tr>\n",
              "      <th>min</th>\n",
              "      <td>70.000000</td>\n",
              "      <td>12.000000</td>\n",
              "      <td>40.000000</td>\n",
              "    </tr>\n",
              "    <tr>\n",
              "      <th>25%</th>\n",
              "      <td>84.000000</td>\n",
              "      <td>65.000000</td>\n",
              "      <td>43.000000</td>\n",
              "    </tr>\n",
              "    <tr>\n",
              "      <th>50%</th>\n",
              "      <td>86.000000</td>\n",
              "      <td>100.000000</td>\n",
              "      <td>46.000000</td>\n",
              "    </tr>\n",
              "    <tr>\n",
              "      <th>75%</th>\n",
              "      <td>89.000000</td>\n",
              "      <td>159.000000</td>\n",
              "      <td>52.300000</td>\n",
              "    </tr>\n",
              "    <tr>\n",
              "      <th>max</th>\n",
              "      <td>97.000000</td>\n",
              "      <td>589.000000</td>\n",
              "      <td>67.400000</td>\n",
              "    </tr>\n",
              "  </tbody>\n",
              "</table>\n",
              "</div>"
            ],
            "text/plain": [
              "       review.point        price          abv\n",
              "count  1997.000000   1997.000000  1997.000000\n",
              "mean   86.359539     134.379069   47.894537  \n",
              "std    3.878920      106.943213   5.934050   \n",
              "min    70.000000     12.000000    40.000000  \n",
              "25%    84.000000     65.000000    43.000000  \n",
              "50%    86.000000     100.000000   46.000000  \n",
              "75%    89.000000     159.000000   52.300000  \n",
              "max    97.000000     589.000000   67.400000  "
            ]
          },
          "metadata": {
            "tags": []
          },
          "execution_count": 201
        }
      ]
    },
    {
      "cell_type": "code",
      "metadata": {
        "id": "vtq9_5Z5Sami",
        "colab_type": "code",
        "colab": {}
      },
      "source": [
        "scotch_data = scotch_abv_test.copy()"
      ],
      "execution_count": 0,
      "outputs": []
    },
    {
      "cell_type": "markdown",
      "metadata": {
        "id": "oi4AC5aeRoi6",
        "colab_type": "text"
      },
      "source": [
        "## Rozkład wartości"
      ]
    },
    {
      "cell_type": "code",
      "metadata": {
        "id": "a2yT5FhrRoQw",
        "colab_type": "code",
        "outputId": "d1f298cc-7080-44ab-8a41-1da3abb21dd7",
        "colab": {
          "base_uri": "https://localhost:8080/",
          "height": 281
        }
      },
      "source": [
        "scotch_data['abv'].plot.hist(color='green')"
      ],
      "execution_count": 203,
      "outputs": [
        {
          "output_type": "execute_result",
          "data": {
            "text/plain": [
              "<matplotlib.axes._subplots.AxesSubplot at 0x7fdb7b0d7c50>"
            ]
          },
          "metadata": {
            "tags": []
          },
          "execution_count": 203
        },
        {
          "output_type": "display_data",
          "data": {
            "image/png": "[encoded data removed]",
            "text/plain": [
              "<Figure size 432x288 with 1 Axes>"
            ]
          },
          "metadata": {
            "tags": [],
            "needs_background": "light"
          }
        }
      ]
    },
    {
      "cell_type": "code",
      "metadata": {
        "id": "nKrFjBCqSttf",
        "colab_type": "code",
        "outputId": "b33f9dbc-e0a3-4234-a724-44bd1fb4b858",
        "colab": {
          "base_uri": "https://localhost:8080/",
          "height": 281
        }
      },
      "source": [
        "scotch_data['review.point'].plot.hist(color='orange')"
      ],
      "execution_count": 204,
      "outputs": [
        {
          "output_type": "execute_result",
          "data": {
            "text/plain": [
              "<matplotlib.axes._subplots.AxesSubplot at 0x7fdb7d92ce10>"
            ]
          },
          "metadata": {
            "tags": []
          },
          "execution_count": 204
        },
        {
          "output_type": "display_data",
          "data": {
            "image/png": "[encoded data removed]",
            "text/plain": [
              "<Figure size 432x288 with 1 Axes>"
            ]
          },
          "metadata": {
            "tags": [],
            "needs_background": "light"
          }
        }
      ]
    },
    {
      "cell_type": "code",
      "metadata": {
        "id": "E5FZx3d2St33",
        "colab_type": "code",
        "outputId": "993cbef9-232c-4ca9-fb4d-4214e48d4b3d",
        "colab": {
          "base_uri": "https://localhost:8080/",
          "height": 281
        }
      },
      "source": [
        "scotch_data['price'].plot.hist(color='purple')"
      ],
      "execution_count": 205,
      "outputs": [
        {
          "output_type": "execute_result",
          "data": {
            "text/plain": [
              "<matplotlib.axes._subplots.AxesSubplot at 0x7fdb7af6cac8>"
            ]
          },
          "metadata": {
            "tags": []
          },
          "execution_count": 205
        },
        {
          "output_type": "display_data",
          "data": {
            "image/png": "[encoded data removed]",
            "text/plain": [
              "<Figure size 432x288 with 1 Axes>"
            ]
          },
          "metadata": {
            "tags": [],
            "needs_background": "light"
          }
        }
      ]
    }
  ]
}